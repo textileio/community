{
  "cells": [
    {
      "cell_type": "code",
      "source": [
        "{\n",
        "  // Utility code\n",
        "  // Hack to get WebSocket into global on Node\n",
        "  ;(global as any).WebSocket = require('isomorphic-ws')\n",
        "}"
      ],
      "outputs": [],
      "execution_count": null,
      "metadata": {
        "collapsed": true,
        "outputExpanded": false,
        "jupyter": {
          "source_hidden": false,
          "outputs_hidden": false
        },
        "nteract": {
          "transient": {
            "deleting": false
          }
        },
        "execution": {
          "iopub.status.busy": "2020-05-14T23:40:28.577Z",
          "shell.execute_reply": "2020-05-14T23:40:28.566Z",
          "iopub.status.idle": "2020-05-14T23:40:28.585Z"
        }
      }
    },
    {
      "cell_type": "markdown",
      "source": [
        "# The Hub\n",
        "\n",
        "## Threads Services\n",
        "\n",
        "Threads Services (e.g. pinning encrypted data on IPFS and helping multiple peers relay updates across the network) can be built and deployed to the network using [go-threads](https://github.com/textileio/go-threads). Textile offers a number of these functions through [The Hub](), which can help developers scale their applications on IPFS. Attaching the Hub to your databases will allow developers to deliver high-quality user-experiences. In order to make this as straightforward as possible, developers looking to leverage the remote Hub need to understand a few additional basic concepts.\n",
        "\n",
        "### API Keys\n",
        "\n",
        "The Hub APIs are available for your apps and your app users. You can use the Hub APIs with a privileged [Account API Key]() or with a [User Key](). Both have the ability to push new data to a ThreadDB, and relay ThreadDB updates (among other things).\n",
        "\n",
        "#### Account Key\n",
        "\n",
        "Account keys provide direct access to developer and org account Buckets and Threads. Account keys make it possible to build apps that have full access to developer or organization Buckets. You can use account keys to integrate your Buckets into CI, dashboards, team messaging integration, etc. To create a new Account Key use `hub key create` and select the `account` option.\n",
        "\n",
        "#### User Key\n",
        "\n",
        "User keys provide existing external identities (users) access to their own threads, under the custodianship of the parent (developer) account. Apps can persist and replicate ThreadDB data for users. A single user key can be added to your app to authenticate many users to your Hub resources. To create a new User Key use `hub key create` and select the `user` option.\n",
        "\n",
        "### Data Ownership\n",
        "\n",
        "The databases you create over the APIs are owned in one of three ways.\n",
        "\n",
        "1. Developer owned. If you use an account key with the Buckets or ThreadDB APIs, the data will be linked directly to your account.\n",
        "2. Org owned. If you create an account key using the --org flag, the Buckets and Threads will be linked to the organization.\n",
        "3. User owned. If you create a user key, Textile allows your app to provision new Buckets and Threads on behalf of your users. This data will be signed and owned by your end-users and only accessible to them. \n",
        "\n",
        "Developers can specify the *context* to customize exactly *how* resources (e.g., storage, networking, etc) are used/allocated within their own apps, and which of the three above ownership strategies are applied. This Conext API allows a developer to shift what role they are using to access the remote Hub APIs. This is interesting because a developer is able to access Hub resources as themselves (i.e., the developer), with all the administrative capabilities that entails, or as users of their app, which are sandboxed but able to create Threads (and Buckets) of their own *within* that user-scoped sandbox.\n",
        "\n",
        "This is a very powerful framework for accessing and allocating developer resources on behalf of users, while still providing the control and quality user-experience that apps built on Threads should provide.\n",
        "\n",
        "### Identity\n",
        "\n",
        "Related to data ownership is the concept of identity. Textile's Hub and Buckets/ThreadDB APIs are flexible when it comes to user identity, allowing you to handle user identities (for access control and security/encryption) in the best way for your app and your users. In order to handle *multiple* peers collaborating on a single database, as well as the ability to handle storage *on behalf* of a user, Hub APIs expect a simple Identity interface for singing and validating updates."
      ],
      "metadata": {
        "nteract": {
          "transient": {
            "deleting": false
          }
        }
      }
    },
    {
      "cell_type": "code",
      "source": [
        "interface Public {\n",
        "  verify(data: Buffer, sig: Buffer): Promise<boolean>\n",
        "  toString(): string\n",
        "  bytes: Buffer\n",
        "}\n",
        "\n",
        "interface Identity {\n",
        "  sign(data: Buffer): Promise<Buffer>\n",
        "  public: Public\n",
        "}"
      ],
      "outputs": [],
      "execution_count": null,
      "metadata": {
        "collapsed": true,
        "outputExpanded": false,
        "jupyter": {
          "source_hidden": false,
          "outputs_hidden": false
        },
        "nteract": {
          "transient": {
            "deleting": false
          }
        },
        "execution": {
          "iopub.status.busy": "2020-05-14T23:40:28.593Z",
          "shell.execute_reply": "2020-05-14T23:40:28.991Z",
          "iopub.status.idle": "2020-05-14T23:40:28.979Z"
        }
      }
    },
    {
      "cell_type": "markdown",
      "source": [
        "Identity here represents any entity capable of signing a message. This is a simple [public key infrastructure](https://en.wikipedia.org/wiki/Public_key_infrastructure) inspired interface that similarly requires the implementer to be capable of returning an associated public key for verification. In many cases, the Identity will just be a private key, but callers can use any setup that suits their needs. A default implementation based on [Libp2p's crypto library]() is provided for convinience (and is also used by default if no identity is provided), however, many developers will want to use alternative identity provides, such as [3box/Ceramic](), [Fortmatic](), and existing private/public keypair, or a web3 provider such as [Metamask](). Textile Hub also provides email-based identities.\n",
        "\n",
        "Identities also provide a way for developers to allocate resources (i.e., storage) for a particular user, and in fact, is a key component in ensuring that a user *controls their own data*.\n",
        "\n",
        "### Example: User Owned Database\n",
        "\n",
        "To illustrate the utility of Identity and Context, in the following example, we will create a user owned ThreadDB within a \"user context\". This should provide a useful example for getting started with Textile's Hub APIs in the context of a database. We'll also interact with our remote database using the Threads Client library (see also additional examples using the [local-first Database]() library).\n",
        "\n",
        "To get started with Textile's Context API, follow the instructions in our [getting started guide](https://docs.textile.io/hub/introduction/). Once you have downloaded and installed the command-line tools, be sure to create a developer account.\n",
        "\n",
        "Next, create a new `user` key using `hub key create` command line tool. After some steps to create an account, you can create the keys.\n",
        "\n",
        "\n",
        "```bash\n",
        "➜ hub key create # select the 'user' option\n",
        "```\n",
        "\n",
        "\n",
        "This should produce output similar to the following. Make note of these values, but do not share them! For a Node app, it is a good idea to use a tool such as [dotenv](https://github.com/motdotla/dotenv) to reference them in your apps, which is what we will assume below. So create a simple `.env` file with `USER_API_KEY` and `USER_API_SECRET` keys.\n",
        "\n",
        "```bash\n",
        "✔ user\n",
        "\n",
        "  KEY                          SECRET                          TYPE  \n",
        "  bqab5csdh...no6jjezox4       bm2tk476yivwlw...3a4cayll7ztha  user  \n",
        "\n",
        "> Success! Created new API key and secret\n",
        "```\n",
        "\n",
        "\n",
        "Once you have the key information handy, let's jump to some code. We'll start with the required imports, and initialize a basic default `Context`."
      ],
      "metadata": {
        "nteract": {
          "transient": {
            "deleting": false
          }
        }
      }
    },
    {
      "cell_type": "code",
      "source": [
        "import { Context } from '@textile/context'\n",
        "import { Libp2pCryptoIdentity } from '@textile/threads-core'\n",
        "import { Client } from '@textile/threads-client'\n",
        "import { config } from 'dotenv'\n",
        "\n",
        "// Load your .env into process.env\n",
        "const parsed = config()"
      ],
      "outputs": [],
      "execution_count": null,
      "metadata": {
        "collapsed": true,
        "outputExpanded": false,
        "jupyter": {
          "source_hidden": false,
          "outputs_hidden": false
        },
        "nteract": {
          "transient": {
            "deleting": false
          }
        },
        "execution": {
          "iopub.status.busy": "2020-05-14T23:40:28.598Z",
          "iopub.status.idle": "2020-05-14T23:40:29.054Z",
          "shell.execute_reply": "2020-05-14T23:40:29.043Z"
        }
      }
    },
    {
      "cell_type": "markdown",
      "source": [
        "### Prepare Identity & Token\n",
        "\n",
        "The `Context` module provides a useful set of methods for managing and using developer keys and signatures on the client side, abstracting away some of the complexity of developer key management and communication with Textile's remote Hub gRPC APIs.\n",
        "\n",
        "For example, to create a new basic Context that will attempt to connect to Textile's Hub staging server, you can initialize a Context by specifying the remote host url.\n",
        "\n",
        "While we're at it, we'll also create a default identity for our user, using the default `Libp2pCryptoIdentity` object. In practice, you might have your own identity provider, or you might want to use a hierarchical key/wallet or menmonic phrase to help store a users keys for them. Whatever you decide, Textile's generic Identity interface should be able to support it."
      ],
      "metadata": {
        "nteract": {
          "transient": {
            "deleting": false
          }
        }
      }
    },
    {
      "cell_type": "code",
      "source": [
        "const ctx = new Context()\n",
        "const identity = await Libp2pCryptoIdentity.fromRandom() // Random identity"
      ],
      "outputs": [],
      "execution_count": null,
      "metadata": {
        "collapsed": true,
        "outputExpanded": false,
        "jupyter": {
          "source_hidden": false,
          "outputs_hidden": false
        },
        "nteract": {
          "transient": {
            "deleting": false
          }
        },
        "execution": {
          "iopub.status.busy": "2020-05-14T23:40:28.973Z",
          "iopub.status.idle": "2020-05-14T23:40:29.084Z",
          "shell.execute_reply": "2020-05-14T23:40:29.115Z"
        }
      }
    },
    {
      "cell_type": "markdown",
      "source": [
        "The next step is to authenticate the user with your User Key and Secret. This will allow the user to store threads and buckets using your developer resources on the Hub."
      ],
      "metadata": {
        "nteract": {
          "transient": {
            "deleting": false
          }
        }
      }
    },
    {
      "cell_type": "code",
      "source": [
        "// Update the context WITH the user key information\n",
        "await ctx.withUserKey({\n",
        "   key: process.env.USER_API_KEY,\n",
        "   secret: process.env.USER_API_SECRET,\n",
        "   type: 1, // User key type\n",
        " })\n",
        "// This will also return a promise with your updated context"
      ],
      "outputs": [],
      "execution_count": null,
      "metadata": {
        "collapsed": true,
        "outputExpanded": false,
        "jupyter": {
          "source_hidden": false,
          "outputs_hidden": false
        },
        "nteract": {
          "transient": {
            "deleting": false
          }
        },
        "execution": {
          "iopub.status.busy": "2020-05-14T23:40:28.983Z",
          "iopub.status.idle": "2020-05-14T23:40:29.103Z",
          "shell.execute_reply": "2020-05-14T23:40:29.120Z"
        }
      }
    },
    {
      "cell_type": "markdown",
      "source": [
        "### Setup ThreadDB\n",
        "\n",
        "Now we will connect to our remote ThreadDB client. This will allow us to connect to a remote ThreadDB on the Textile Hub. This is an alternative to a local-first database where keys and data are stored _locally_ on the device (see local first [database example]() for details on this)."
      ],
      "metadata": {
        "nteract": {
          "transient": {
            "deleting": false
          }
        }
      }
    },
    {
      "cell_type": "code",
      "source": [
        "const db = new Client(ctx)\n",
        "// API calls will now include the credentials created above"
      ],
      "outputs": [],
      "execution_count": null,
      "metadata": {
        "collapsed": true,
        "outputExpanded": false,
        "jupyter": {
          "source_hidden": false,
          "outputs_hidden": false
        },
        "nteract": {
          "transient": {
            "deleting": false
          }
        },
        "execution": {
          "iopub.status.busy": "2020-05-14T23:40:29.048Z",
          "iopub.status.idle": "2020-05-14T23:40:29.132Z",
          "shell.execute_reply": "2020-05-14T23:40:29.126Z"
        }
      }
    },
    {
      "cell_type": "markdown",
      "source": [
        "With the ThreadDB instance ready to connect to the remote database, it is time to generate a user token. This allows us (the developer) to allocate user-scoped resources without our remote database. The app user (defined by their Identity created above) needs an API token to perform database operations. The API will give you one based on ID plus your developer credentials. The token will be added to the existing db.context. The token can also manually be added to a context if one has already been generated for the user."
      ],
      "metadata": {
        "nteract": {
          "transient": {
            "deleting": false
          }
        }
      }
    },
    {
      "cell_type": "code",
      "source": [
        "const token = await db.getToken(identity)\n",
        "// Or, update it manually from an existing token\n",
        "// db.context.withToken(token)"
      ],
      "outputs": [],
      "execution_count": null,
      "metadata": {
        "collapsed": true,
        "outputExpanded": false,
        "jupyter": {
          "source_hidden": false,
          "outputs_hidden": false
        },
        "nteract": {
          "transient": {
            "deleting": false
          }
        },
        "execution": {
          "iopub.status.busy": "2020-05-14T23:40:29.061Z",
          "iopub.status.idle": "2020-05-14T23:40:29.159Z",
          "shell.execute_reply": "2020-05-14T23:40:29.170Z"
        }
      }
    },
    {
      "cell_type": "markdown",
      "source": [
        "Note that the context is actually reusable in future sessions (except it will likely expire and need to be updated). It can base stored in a session or however your app stores app state (securely)."
      ],
      "metadata": {
        "nteract": {
          "transient": {
            "deleting": false
          }
        }
      }
    },
    {
      "cell_type": "code",
      "source": [
        "JSON.stringify(ctx.toJSON(), undefined, 2)"
      ],
      "outputs": [],
      "execution_count": null,
      "metadata": {
        "collapsed": true,
        "outputExpanded": false,
        "jupyter": {
          "source_hidden": false,
          "outputs_hidden": false
        },
        "nteract": {
          "transient": {
            "deleting": false
          }
        },
        "execution": {
          "iopub.status.busy": "2020-05-14T23:40:29.064Z",
          "iopub.status.idle": "2020-05-14T23:40:29.202Z",
          "shell.execute_reply": "2020-05-14T23:40:29.195Z"
        }
      }
    },
    {
      "cell_type": "markdown",
      "source": [
        "An app should create a minimal number of Threads per user to avoid creating unnecessary storage. A single Thread can contain a large number of distinct Collections for different types of data. Here, we create a new Thread for a user, but you could similarly store this ThreadID in (say) a local database or your app state and restore it using `ThreadID.fromString()`."
      ],
      "metadata": {
        "nteract": {
          "transient": {
            "deleting": false
          }
        }
      }
    },
    {
      "cell_type": "code",
      "source": [
        "import { ThreadID } from '@textile/threads-id'\n",
        "const id = ThreadID.fromRandom()\n",
        "\n",
        "// Each new ThreadID requires a `newDB` call.\n",
        "\n",
        "await db.newDB(id) // Updates the context to include the thread id\n",
        "// Or, do it manually\n",
        "// db.context.withThread(id)"
      ],
      "outputs": [],
      "execution_count": null,
      "metadata": {
        "collapsed": true,
        "outputExpanded": false,
        "jupyter": {
          "source_hidden": false,
          "outputs_hidden": false
        },
        "nteract": {
          "transient": {
            "deleting": false
          }
        },
        "execution": {
          "iopub.status.busy": "2020-05-14T23:40:29.068Z",
          "iopub.status.idle": "2020-05-14T23:40:29.257Z",
          "shell.execute_reply": "2020-05-14T23:40:29.252Z"
        }
      }
    },
    {
      "cell_type": "markdown",
      "source": [
        "For this example, we're going to be working with a Collection of Astronauts. The schema looks like this."
      ],
      "metadata": {
        "nteract": {
          "transient": {
            "deleting": false
          }
        }
      }
    },
    {
      "cell_type": "code",
      "source": [
        "const astronautSchema = {\n",
        "   $id: 'https://example.com/astronaut.schema.json',\n",
        "   $schema: 'http://json-schema.org/draft-07/schema#',\n",
        "   title: 'Astronauts',\n",
        "   type: 'object',\n",
        "   required: ['_id'],\n",
        "   properties: {\n",
        "     _id: {\n",
        "       type: 'string',\n",
        "     },\n",
        "     firstName: {\n",
        "       type: 'string',\n",
        "     },\n",
        "     lastName: {\n",
        "       type: 'string',\n",
        "     },\n",
        "     missions: {\n",
        "       type: 'integer',\n",
        "       minimum: 0,\n",
        "     },\n",
        "   },\n",
        " };"
      ],
      "outputs": [],
      "execution_count": null,
      "metadata": {
        "collapsed": true,
        "outputExpanded": false,
        "jupyter": {
          "source_hidden": false,
          "outputs_hidden": false
        },
        "nteract": {
          "transient": {
            "deleting": false
          }
        },
        "execution": {
          "iopub.status.busy": "2020-05-14T23:40:29.073Z",
          "shell.execute_reply": "2020-05-14T23:40:29.265Z",
          "iopub.status.idle": "2020-05-14T23:40:29.271Z"
        }
      }
    },
    {
      "cell_type": "markdown",
      "source": [
        "Using that schema, we'll create a new collection. See [this other example]() for details about Collections, Schemas, and Instances."
      ],
      "metadata": {
        "nteract": {
          "transient": {
            "deleting": false
          }
        }
      }
    },
    {
      "cell_type": "code",
      "source": [
        "await db.newCollection(id, 'Astronaut', astronautSchema)"
      ],
      "outputs": [],
      "execution_count": null,
      "metadata": {
        "collapsed": true,
        "outputExpanded": false,
        "jupyter": {
          "source_hidden": false,
          "outputs_hidden": false
        },
        "nteract": {
          "transient": {
            "deleting": false
          }
        },
        "execution": {
          "iopub.status.busy": "2020-05-14T23:40:29.078Z",
          "iopub.status.idle": "2020-05-14T23:40:29.304Z",
          "shell.execute_reply": "2020-05-14T23:40:29.296Z"
        }
      }
    },
    {
      "cell_type": "markdown",
      "source": [
        "### Add Instance to Collection\n",
        "\n",
        "Now that our ThreadDB contains the Astronaut Collection, you just need to add a new astronaut that matches the expected schema. If you run the following code many times, you'll notice many Buzz Aldrin entries in your ThreadDB, each with a unique ID."
      ],
      "metadata": {
        "nteract": {
          "transient": {
            "deleting": false
          }
        }
      }
    },
    {
      "cell_type": "code",
      "source": [
        "const ids = await db.create(id, 'Astronaut', [\n",
        "  {\n",
        "    _id: '', // Leave empty to auto-generate\n",
        "    firstName: 'Buzz',\n",
        "    lastName: 'Aldrin',\n",
        "    missions: 2,\n",
        "  }\n",
        "])"
      ],
      "outputs": [],
      "execution_count": null,
      "metadata": {
        "collapsed": true,
        "outputExpanded": false,
        "jupyter": {
          "source_hidden": false,
          "outputs_hidden": false
        },
        "nteract": {
          "transient": {
            "deleting": false
          }
        },
        "execution": {
          "iopub.status.busy": "2020-05-14T23:40:29.091Z",
          "iopub.status.idle": "2020-05-14T23:40:29.380Z",
          "shell.execute_reply": "2020-05-14T23:40:29.375Z"
        }
      }
    },
    {
      "cell_type": "markdown",
      "source": [
        "### Query from our Collection\n",
        "\n",
        "You can search all your existing Buzz Aldrins pretty easily. You can also clean up our entries (just delete them all!), modify them, or perform various transactions."
      ],
      "metadata": {
        "nteract": {
          "transient": {
            "deleting": false
          }
        }
      }
    },
    {
      "cell_type": "code",
      "source": [
        "import { Where } from '@textile/threads-client'\n",
        "\n",
        "const q = new Where('firstName').eq('Buzz')\n",
        "const r = await db.find(id, 'Astronaut', q)\n",
        "\n",
        "// Extract just the ids\n",
        "const ids = r.instancesList.map((instance: any) => instance._id)\n",
        "\n",
        "console.log(`Found ${ids.length} entries`)\n",
        "\n",
        "// Cleanup!\n",
        "await db.delete(id, 'Astronaut', ids)"
      ],
      "outputs": [],
      "execution_count": null,
      "metadata": {
        "collapsed": true,
        "outputExpanded": false,
        "jupyter": {
          "source_hidden": false,
          "outputs_hidden": false
        },
        "nteract": {
          "transient": {
            "deleting": false
          }
        },
        "execution": {
          "iopub.status.busy": "2020-05-14T23:40:29.095Z",
          "iopub.status.idle": "2020-05-14T23:40:29.407Z",
          "shell.execute_reply": "2020-05-14T23:40:29.398Z"
        }
      }
    },
    {
      "cell_type": "markdown",
      "source": [
        "We leave the remaining operations as an exercise for the reader. Have fun, explore, and let us know what you think!"
      ],
      "metadata": {
        "nteract": {
          "transient": {
            "deleting": false
          }
        }
      }
    }
  ],
  "metadata": {
    "kernel_info": {
      "name": "tslab"
    },
    "language_info": {
      "name": "typescript",
      "version": "3.7.2",
      "mimetype": "text/typescript",
      "file_extension": ".ts",
      "codemirror_mode": {
        "mode": "typescript",
        "name": "javascript",
        "typescript": true
      }
    },
    "kernelspec": {
      "argv": [
        "tslab",
        "kernel",
        "--config-path={connection_file}"
      ],
      "display_name": "TypeScript",
      "language": "typescript",
      "name": "tslab"
    },
    "nteract": {
      "version": "0.23.1"
    }
  },
  "nbformat": 4,
  "nbformat_minor": 0
}